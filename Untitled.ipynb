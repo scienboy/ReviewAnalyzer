{
 "cells": [
  {
   "cell_type": "markdown",
   "metadata": {},
   "source": [
    "# Hello World"
   ]
  },
  {
   "cell_type": "code",
   "execution_count": 129,
   "metadata": {},
   "outputs": [],
   "source": [
    "import math\n",
    "import sys\n",
    "import time\n",
    "import re\n",
    "\n",
    "import pandas as pd\n",
    "import pandas_profiling\n",
    "import numpy as np\n",
    "\n",
    "from hanspell import spell_checker # 맞춤법\n",
    "from pykospacing import spacing  #띄어쓰기 보정\n",
    "from konlpy.tag import Okt\n",
    "\n",
    "from gensim import corpora\n",
    "\n",
    "from datetime import datetime"
   ]
  },
  {
   "cell_type": "code",
   "execution_count": 88,
   "metadata": {},
   "outputs": [],
   "source": [
    "#텍스트에 포함되어 있는 특수 문자 제거\n",
    "def cleanText(readData):\n",
    "    text = re.sub('[-=+,#/\\?:^$.@*\\\"※~&%ㆍ!』\\\\‘|\\(\\)\\[\\]\\<\\>`\\'…》]', '', readData)\n",
    "    return text"
   ]
  },
  {
   "cell_type": "code",
   "execution_count": 105,
   "metadata": {},
   "outputs": [
    {
     "name": "stdout",
     "output_type": "stream",
     "text": [
      "Program started...\n",
      "RangeIndex(start=0, stop=31, step=1)\n"
     ]
    }
   ],
   "source": [
    "print('Program started...')\n",
    "data = pd.read_csv(r'D:\\ThinQ\\Data\\Review(201511~20210109)\\reviews_all - Copy_partial.csv', encoding='cp949')\n",
    "# data = pd.read_csv(r'D:\\ThinQ\\Data\\Review(201511~20210109)\\reviews_all - Copy.csv', encoding='cp949')\n",
    "# data[:5]     # 5번 row까지 확인\n",
    "print(data.index)   # 인덱스 확인\n",
    "\n",
    "okt = Okt()\n",
    "\n",
    "# %load_ext memory_profiler\n",
    "# %memit"
   ]
  },
  {
   "cell_type": "code",
   "execution_count": 106,
   "metadata": {},
   "outputs": [
    {
     "name": "stdout",
     "output_type": "stream",
     "text": [
      "28\n"
     ]
    }
   ],
   "source": [
    "data_is_ko = data['ReviewerLanguage'] == 'ko'\n",
    "data_ko = data[data_is_ko]\n",
    "\n",
    "print(len(data_ko.index))"
   ]
  },
  {
   "cell_type": "code",
   "execution_count": 143,
   "metadata": {},
   "outputs": [
    {
     "name": "stdout",
     "output_type": "stream",
     "text": [
      "2021.1.24 2:9:40\n",
      "Empty DataFrame\n",
      "Columns: []\n",
      "Index: []\n",
      "[(('연결', 'Noun'), 8), (('공유기', 'Noun'), 5), (('으로', 'Josa'), 5), (('사용', 'Noun'), 4), (('에서', 'Josa'), 4), (('코스', 'Noun'), 4), (('스마트', 'Noun'), 3), (('해서', 'Verb'), 3), (('마시멜로', 'Noun'), 3), (('공기청정기', 'Noun'), 3), (('됩니다', 'Verb'), 3), (('되네요', 'Verb'), 3), (('실행', 'Noun'), 3), (('ㅡㅡ', 'KoreanParticle'), 3), (('제품', 'Noun'), 3), (('이랑', 'Josa'), 3), (('이름', 'Noun'), 3), (('기능', 'Noun'), 3), (('설정', 'Noun'), 3), (('좋아요', 'Adjective'), 2), (('LG', 'Alpha'), 2), (('업그레이드', 'Noun'), 2), (('했는데', 'Verb'), 2), (('버전', 'Noun'), 2), (('되는', 'Verb'), 2), (('쓰는데', 'Verb'), 2), (('네트워크', 'Noun'), 2), (('돼서', 'Verb'), 2), (('인데', 'Josa'), 2), (('다시', 'Noun'), 2), (('설치', 'Noun'), 2), (('하는데', 'Verb'), 2), (('계속', 'Noun'), 2), (('까지', 'Josa'), 2), (('속도', 'Noun'), 2), (('해도', 'Noun'), 2), (('다른', 'Noun'), 2), (('분들', 'Suffix'), 2), (('된다고', 'Verb'), 2), (('영문', 'Noun'), 2), (('다운로드', 'Noun'), 2), (('하고', 'Josa'), 2), (('하다가', 'Verb'), 2), (('설명', 'Noun'), 2), (('로봇청소기', 'Noun'), 2), (('시간', 'Noun'), 2), (('되면', 'Verb'), 2), (('그리고', 'Conjunction'), 2), (('공기', 'Noun'), 2), (('자동', 'Noun'), 2), (('깔끔하네요', 'Adjective'), 1), (('오호', 'Exclamation'), 1), (('괜찮은', 'Adjective'), 1), (('Goooooooooooood', 'Alpha'), 1), (('프로덕트', 'Noun'), 1), (('하나로', 'Noun'), 1), (('통합', 'Noun'), 1), (('있어', 'Adjective'), 1), (('GOOD', 'Alpha'), 1), (('생소하지만', 'Adjective'), 1), (('단합', 'Noun'), 1), (('완전', 'Noun'), 1), (('때문', 'Noun'), 1), (('호환', 'Noun'), 1), (('같아', 'Adjective'), 1), (('퓨리', 'Noun'), 1), (('케어', 'Noun'), 1), (('AS', 'Alpha'), 1), (('110', 'Number'), 1), (('WBW', 'Alpha'), 1), (('모델', 'Noun'), 1), (('인증', 'Noun'), 1), (('와이파이', 'Noun'), 1), (('어플', 'Noun'), 1), (('해주세요', 'Verb'), 1), (('YongWoo', 'Alpha'), 1), (('Kim', 'Alpha'), 1), (('지웠다가', 'Verb'), 1), (('니까', 'Josa'), 1), (('구매', 'Noun'), 1), (('연결하려고', 'Adjective'), 1), (('오류', 'Noun'), 1), (('핸드폰', 'Noun'), 1), (('모두', 'Noun'), 1), (('진데', 'Verb'), 1), (('깔면', 'Verb'), 1), (('된다기에', 'Verb'), 1), (('여러', 'Noun'), 1), (('그래도', 'Adverb'), 1), (('빨리', 'Adverb'), 1), (('수정', 'Noun'), 1), (('시키면', 'Verb'), 1), (('기계', 'Noun'), 1), (('반응', 'Noun'), 1), (('늦습니다', 'Verb'), 1), (('노트', 'Noun'), 1), (('아무리', 'Adverb'), 1), (('말씀', 'Noun'), 1), (('대로', 'Josa'), 1), (('지웠다', 'Verb'), 1), (('새로', 'Adjective'), 1), (('깔아서', 'Verb'), 1), (('무슨', 'Noun'), 1), (('방법', 'Noun'), 1), (('없을까요', 'Adjective'), 1), (('너무', 'Adverb'), 1), (('등록', 'Noun'), 1), (('되는데', 'Verb'), 1), (('되길래', 'Verb'), 1), (('하다', 'Verb'), 1), (('lg', 'Alpha'), 1), (('서비스', 'Noun'), 1), (('가서', 'Verb'), 1), (('검색', 'Noun'), 1), (('해보고', 'Verb'), 1), (('알았어요', 'Verb'), 1), (('이면', 'Noun'), 1), (('통신', 'Noun'), 1), (('바꾸고', 'Verb'), 1), (('겨우', 'Noun'), 1), (('성공했네요', 'Adjective'), 1), (('신다는', 'Verb'), 1), (('참고', 'Noun'), 1), (('하세요', 'Verb'), 1), (('원하는', 'Adjective'), 1), (('없고', 'Adjective'), 1), (('기존', 'Noun'), 1), (('건조', 'Noun'), 1), (('추가', 'Noun'), 1), (('싶은데', 'Verb'), 1), (('기본', 'Noun'), 1), (('차이점', 'Noun'), 1), (('느끼겠습니다', 'Verb'), 1), (('있는', 'Adjective'), 1), (('예요', 'Josa'), 1), (('2시간', 'Number'), 1), (('동안', 'Noun'), 1), (('에어컨', 'Noun'), 1), (('시도', 'Noun'), 1), (('결국', 'Adverb'), 1), (('포기', 'Noun'), 1), (('ㅜㅜ', 'KoreanParticle'), 1), (('숫자', 'Noun'), 1), (('이고', 'Josa'), 1), (('해봐도', 'Verb'), 1), (('안됨', 'Adjective'), 1), (('기사', 'Noun'), 1), (('보고', 'Noun'), 1), (('연결하면', 'Adjective'), 1), (('하고', 'Verb'), 1), (('사라짐', 'Verb'), 1), (('직장', 'Noun'), 1), (('다니면서', 'Verb'), 1), (('매일', 'Noun'), 1), (('늦게', 'Verb'), 1), (('마치는', 'Verb'), 1), (('저녁', 'Noun'), 1), (('즈음', 'Noun'), 1), (('원격', 'Noun'), 1), (('돌려놓고', 'Verb'), 1), (('퇴근', 'Noun'), 1), (('널면', 'Verb'), 1), (('좋음', 'Adjective'), 1), (('정말', 'Noun'), 1), (('편하네요', 'Adjective'), 1), (('없어요', 'Adjective'), 1), (('세탁기', 'Noun'), 1), (('냉장고', 'Noun'), 1), (('있고', 'Adjective'), 1), (('띵크', 'Noun'), 1), (('허브', 'Noun'), 1), (('어디서', 'Adverb'), 1), (('파나요', 'Verb'), 1), (('시드', 'Noun'), 1), (('한글', 'Noun'), 1), (('영어', 'Noun'), 1), (('바꾸면', 'Verb'), 1), (('된다는', 'Verb'), 1), (('듣고', 'Verb'), 1), (('해봤더니', 'Verb'), 1), (('바로', 'Noun'), 1), (('책자', 'Noun'), 1), (('이나', 'Josa'), 1), (('봤는데', 'Verb'), 1), (('써주셨으면', 'Verb'), 1), (('고생', 'Noun'), 1), (('했을', 'Verb'), 1), (('텐데', 'Eomi'), 1), (('아쉽네요', 'Adjective'), 1), (('암튼', 'Adverb'), 1), (('되니', 'Verb'), 1), (('편하고', 'Adjective'), 1), (('좋네요', 'Adjective'), 1), (('이라고', 'Josa'), 1), (('한마디', 'Noun'), 1), (('써놨어도', 'Verb'), 1), (('옵션', 'Noun'), 1), (('모듈', 'Noun'), 1), (('샀자', 'Verb'), 1), (('퉤퉤', 'Noun'), 1), (('느립니다', 'Adjective'), 1), (('연결해서', 'Adjective'), 1), (('미세먼지', 'Noun'), 1), (('오염', 'Noun'), 1), (('대한', 'Noun'), 1), (('임계치', 'Verb'), 1), (('되다', 'Verb'), 1), (('보니', 'Verb'), 1), (('수준', 'Noun'), 1), (('푸싱', 'Noun'), 1), (('뜨는', 'Verb'), 1), (('번거로', 'Adjective'), 1), (('있고요', 'Adjective'), 1), (('실내', 'Noun'), 1), (('나빠지면', 'Verb'), 1), (('청정기', 'Noun'), 1), (('작동시켜', 'Verb'), 1), (('정화', 'Noun'), 1), (('시키고', 'Verb'), 1), (('작동', 'Noun'), 1), (('꺼지는', 'Verb'), 1), (('있으면', 'Adjective'), 1), (('좋을', 'Adjective'), 1), (('같습니다', 'Adjective'), 1), (('효과', 'Noun'), 1), (('걸린', 'Verb'), 1), (('마냥', 'Noun'), 1), (('뚝뚝', 'Noun'), 1), (('끊김', 'Verb'), 1), (('문제', 'Noun'), 1), (('없는데', 'Adjective'), 1), (('최적화', 'Noun'), 1), (('필요해', 'Adjective'), 1), (('보이네요', 'Verb'), 1), (('로보킹', 'Noun'), 1), (('20', 'Number'), 1), (('바뀌었으면', 'Verb'), 1), (('이라도', 'Josa'), 1), (('놓으세요', 'Verb'), 1)]\n"
     ]
    }
   ],
   "source": [
    "cnt = 0\n",
    "vocab = {} # 파이썬의 dictionary 자료형\n",
    "tokenized_reviews = []\n",
    "# stop_words = set(stopwords.words('english'))  # 영문 불용어 등록\n",
    "data_reviews = pd.DataFrame()\n",
    "\n",
    "now = datetime.now()  # 현재 시간 기재\n",
    "print (\"%s.%s.%s %s:%s:%s\" %(now.year, now.month, now.day, now.hour, now.minute, now.second))\n",
    "\n",
    "for row_tg in data_ko['ReviewText']:\n",
    "    \n",
    "    if type(row_tg) != float:    # Review가 따로 존재하지 않아, Float 타입 nan으로 들어오는 케이스 제거\n",
    "        \n",
    "        # 불용어 제거 필요\n",
    "        text = cleanText(str(row_tg))                       # 특수문자 제거\n",
    "        hanspelchecked = spell_checker.check(text).checked  # 맙춤법 체크\n",
    "        kospacing_sent = spacing(hanspelchecked)            # 띄어쓰기 업데이트\n",
    "\n",
    "        result = []\n",
    "        for token in okt.pos(kospacing_sent):\n",
    "# #         if token not in stop_words: # 단어 토큰화 된 결과에 대해서 불용어를 제거합니다.\n",
    "            if len(token[0]) > 1: # 단어 길이가 2이하인 경우에 대하여 추가로 단어를 제거합니다.\n",
    "                result.append(token[0])\n",
    "                if token not in vocab:\n",
    "                    vocab[token] = 0 \n",
    "                vocab[token] += 1\n",
    "        \n",
    "        tokenized_reviews.append(result) \n",
    "        data_reviews.append(pd.DataFrame(result))\n",
    "        \n",
    "        cnt = cnt + 1\n",
    "        print(cnt , end='\\r', flush = True)\n",
    "\n",
    "print(data_reviews)\n",
    "# print(tokenized_reviews)\n",
    "# dictionary = corpora.Dictionary(tokenized_reviews)\n",
    "# corpus = [dictionary.doc2bow(text) for text in tokenized_reviews]\n",
    "# print(corpus[1])\n",
    "    \n",
    "vocab_sorted = sorted(vocab.items(), key = lambda x:x[1], reverse = True)\n",
    "print(vocab_sorted)"
   ]
  },
  {
   "cell_type": "code",
   "execution_count": 142,
   "metadata": {},
   "outputs": [
    {
     "data": {
      "text/html": [
       "<div>\n",
       "<style scoped>\n",
       "    .dataframe tbody tr th:only-of-type {\n",
       "        vertical-align: middle;\n",
       "    }\n",
       "\n",
       "    .dataframe tbody tr th {\n",
       "        vertical-align: top;\n",
       "    }\n",
       "\n",
       "    .dataframe thead th {\n",
       "        text-align: right;\n",
       "    }\n",
       "</style>\n",
       "<table border=\"1\" class=\"dataframe\">\n",
       "  <thead>\n",
       "    <tr style=\"text-align: right;\">\n",
       "      <th></th>\n",
       "    </tr>\n",
       "  </thead>\n",
       "  <tbody>\n",
       "  </tbody>\n",
       "</table>\n",
       "</div>"
      ],
      "text/plain": [
       "Empty DataFrame\n",
       "Columns: []\n",
       "Index: []"
      ]
     },
     "execution_count": 142,
     "metadata": {},
     "output_type": "execute_result"
    }
   ],
   "source": [
    "data_reviews[:5]"
   ]
  },
  {
   "cell_type": "code",
   "execution_count": 117,
   "metadata": {
    "collapsed": true,
    "jupyter": {
     "outputs_hidden": true
    }
   },
   "outputs": [
    {
     "name": "stdout",
     "output_type": "stream",
     "text": [
      "2021.1.24 1:46:30\n",
      "[(('연결', 'Noun'), 8), (('공유기', 'Noun'), 5), (('으로', 'Josa'), 5), (('사용', 'Noun'), 4), (('에서', 'Josa'), 4), (('코스', 'Noun'), 4), (('스마트', 'Noun'), 3), (('해서', 'Verb'), 3), (('마시멜로', 'Noun'), 3), (('공기청정기', 'Noun'), 3), (('됩니다', 'Verb'), 3), (('되네요', 'Verb'), 3), (('실행', 'Noun'), 3), (('ㅡㅡ', 'KoreanParticle'), 3), (('제품', 'Noun'), 3), (('이랑', 'Josa'), 3), (('이름', 'Noun'), 3), (('기능', 'Noun'), 3), (('설정', 'Noun'), 3), (('좋아요', 'Adjective'), 2), (('LG', 'Alpha'), 2), (('업그레이드', 'Noun'), 2), (('했는데', 'Verb'), 2), (('버전', 'Noun'), 2), (('되는', 'Verb'), 2), (('쓰는데', 'Verb'), 2), (('네트워크', 'Noun'), 2), (('돼서', 'Verb'), 2), (('인데', 'Josa'), 2), (('다시', 'Noun'), 2), (('설치', 'Noun'), 2), (('하는데', 'Verb'), 2), (('계속', 'Noun'), 2), (('까지', 'Josa'), 2), (('속도', 'Noun'), 2), (('해도', 'Noun'), 2), (('다른', 'Noun'), 2), (('분들', 'Suffix'), 2), (('된다고', 'Verb'), 2), (('영문', 'Noun'), 2), (('다운로드', 'Noun'), 2), (('하고', 'Josa'), 2), (('하다가', 'Verb'), 2), (('설명', 'Noun'), 2), (('로봇청소기', 'Noun'), 2), (('시간', 'Noun'), 2), (('되면', 'Verb'), 2), (('그리고', 'Conjunction'), 2), (('공기', 'Noun'), 2), (('자동', 'Noun'), 2), (('깔끔하네요', 'Adjective'), 1), (('오호', 'Exclamation'), 1), (('괜찮은', 'Adjective'), 1), (('Goooooooooooood', 'Alpha'), 1), (('프로덕트', 'Noun'), 1), (('하나로', 'Noun'), 1), (('통합', 'Noun'), 1), (('있어', 'Adjective'), 1), (('GOOD', 'Alpha'), 1), (('생소하지만', 'Adjective'), 1), (('단합', 'Noun'), 1), (('완전', 'Noun'), 1), (('때문', 'Noun'), 1), (('호환', 'Noun'), 1), (('같아', 'Adjective'), 1), (('퓨리', 'Noun'), 1), (('케어', 'Noun'), 1), (('AS', 'Alpha'), 1), (('110', 'Number'), 1), (('WBW', 'Alpha'), 1), (('모델', 'Noun'), 1), (('인증', 'Noun'), 1), (('와이파이', 'Noun'), 1), (('어플', 'Noun'), 1), (('해주세요', 'Verb'), 1), (('YongWoo', 'Alpha'), 1), (('Kim', 'Alpha'), 1), (('지웠다가', 'Verb'), 1), (('니까', 'Josa'), 1), (('구매', 'Noun'), 1), (('연결하려고', 'Adjective'), 1), (('오류', 'Noun'), 1), (('핸드폰', 'Noun'), 1), (('모두', 'Noun'), 1), (('진데', 'Verb'), 1), (('깔면', 'Verb'), 1), (('된다기에', 'Verb'), 1), (('여러', 'Noun'), 1), (('그래도', 'Adverb'), 1), (('빨리', 'Adverb'), 1), (('수정', 'Noun'), 1), (('시키면', 'Verb'), 1), (('기계', 'Noun'), 1), (('반응', 'Noun'), 1), (('늦습니다', 'Verb'), 1), (('노트', 'Noun'), 1), (('아무리', 'Adverb'), 1), (('말씀', 'Noun'), 1), (('대로', 'Josa'), 1), (('지웠다', 'Verb'), 1), (('새로', 'Adjective'), 1), (('깔아서', 'Verb'), 1), (('무슨', 'Noun'), 1), (('방법', 'Noun'), 1), (('없을까요', 'Adjective'), 1), (('너무', 'Adverb'), 1), (('등록', 'Noun'), 1), (('되는데', 'Verb'), 1), (('되길래', 'Verb'), 1), (('하다', 'Verb'), 1), (('lg', 'Alpha'), 1), (('서비스', 'Noun'), 1), (('가서', 'Verb'), 1), (('검색', 'Noun'), 1), (('해보고', 'Verb'), 1), (('알았어요', 'Verb'), 1), (('이면', 'Noun'), 1), (('통신', 'Noun'), 1), (('바꾸고', 'Verb'), 1), (('겨우', 'Noun'), 1), (('성공했네요', 'Adjective'), 1), (('신다는', 'Verb'), 1), (('참고', 'Noun'), 1), (('하세요', 'Verb'), 1), (('원하는', 'Adjective'), 1), (('없고', 'Adjective'), 1), (('기존', 'Noun'), 1), (('건조', 'Noun'), 1), (('추가', 'Noun'), 1), (('싶은데', 'Verb'), 1), (('기본', 'Noun'), 1), (('차이점', 'Noun'), 1), (('느끼겠습니다', 'Verb'), 1), (('있는', 'Adjective'), 1), (('예요', 'Josa'), 1), (('2시간', 'Number'), 1), (('동안', 'Noun'), 1), (('에어컨', 'Noun'), 1), (('시도', 'Noun'), 1), (('결국', 'Adverb'), 1), (('포기', 'Noun'), 1), (('ㅜㅜ', 'KoreanParticle'), 1), (('숫자', 'Noun'), 1), (('이고', 'Josa'), 1), (('해봐도', 'Verb'), 1), (('안됨', 'Adjective'), 1), (('기사', 'Noun'), 1), (('보고', 'Noun'), 1), (('연결하면', 'Adjective'), 1), (('하고', 'Verb'), 1), (('사라짐', 'Verb'), 1), (('직장', 'Noun'), 1), (('다니면서', 'Verb'), 1), (('매일', 'Noun'), 1), (('늦게', 'Verb'), 1), (('마치는', 'Verb'), 1), (('저녁', 'Noun'), 1), (('즈음', 'Noun'), 1), (('원격', 'Noun'), 1), (('돌려놓고', 'Verb'), 1), (('퇴근', 'Noun'), 1), (('널면', 'Verb'), 1), (('좋음', 'Adjective'), 1), (('정말', 'Noun'), 1), (('편하네요', 'Adjective'), 1), (('없어요', 'Adjective'), 1), (('세탁기', 'Noun'), 1), (('냉장고', 'Noun'), 1), (('있고', 'Adjective'), 1), (('띵크', 'Noun'), 1), (('허브', 'Noun'), 1), (('어디서', 'Adverb'), 1), (('파나요', 'Verb'), 1), (('시드', 'Noun'), 1), (('한글', 'Noun'), 1), (('영어', 'Noun'), 1), (('바꾸면', 'Verb'), 1), (('된다는', 'Verb'), 1), (('듣고', 'Verb'), 1), (('해봤더니', 'Verb'), 1), (('바로', 'Noun'), 1), (('책자', 'Noun'), 1), (('이나', 'Josa'), 1), (('봤는데', 'Verb'), 1), (('써주셨으면', 'Verb'), 1), (('고생', 'Noun'), 1), (('했을', 'Verb'), 1), (('텐데', 'Eomi'), 1), (('아쉽네요', 'Adjective'), 1), (('암튼', 'Adverb'), 1), (('되니', 'Verb'), 1), (('편하고', 'Adjective'), 1), (('좋네요', 'Adjective'), 1), (('이라고', 'Josa'), 1), (('한마디', 'Noun'), 1), (('써놨어도', 'Verb'), 1), (('옵션', 'Noun'), 1), (('모듈', 'Noun'), 1), (('샀자', 'Verb'), 1), (('퉤퉤', 'Noun'), 1), (('느립니다', 'Adjective'), 1), (('연결해서', 'Adjective'), 1), (('미세먼지', 'Noun'), 1), (('오염', 'Noun'), 1), (('대한', 'Noun'), 1), (('임계치', 'Verb'), 1), (('되다', 'Verb'), 1), (('보니', 'Verb'), 1), (('수준', 'Noun'), 1), (('푸싱', 'Noun'), 1), (('뜨는', 'Verb'), 1), (('번거로', 'Adjective'), 1), (('있고요', 'Adjective'), 1), (('실내', 'Noun'), 1), (('나빠지면', 'Verb'), 1), (('청정기', 'Noun'), 1), (('작동시켜', 'Verb'), 1), (('정화', 'Noun'), 1), (('시키고', 'Verb'), 1), (('작동', 'Noun'), 1), (('꺼지는', 'Verb'), 1), (('있으면', 'Adjective'), 1), (('좋을', 'Adjective'), 1), (('같습니다', 'Adjective'), 1), (('효과', 'Noun'), 1), (('걸린', 'Verb'), 1), (('마냥', 'Noun'), 1), (('뚝뚝', 'Noun'), 1), (('끊김', 'Verb'), 1), (('문제', 'Noun'), 1), (('없는데', 'Adjective'), 1), (('최적화', 'Noun'), 1), (('필요해', 'Adjective'), 1), (('보이네요', 'Verb'), 1), (('로보킹', 'Noun'), 1), (('20', 'Number'), 1), (('바뀌었으면', 'Verb'), 1), (('이라도', 'Josa'), 1), (('놓으세요', 'Verb'), 1)]\n"
     ]
    }
   ],
   "source": [
    "cnt = 0\n",
    "vocab = {} # 파이썬의 dictionary 자료형\n",
    "sentences = []\n",
    "# stop_words = set(stopwords.words('english'))  # 영문 불용어 등록\n",
    "\n",
    "now = datetime.now()  # 현재 시간 기재\n",
    "print (\"%s.%s.%s %s:%s:%s\" %(now.year, now.month, now.day, now.hour, now.minute, now.second))\n",
    "\n",
    "for row_tg in data_ko['ReviewText']:\n",
    "    \n",
    "    if type(row_tg) != float:    # Review가 따로 존재하지 않아, Float 타입 nan으로 들어오는 케이스 제거\n",
    "\n",
    "        # 불용어 제거 필요\n",
    "        text = cleanText(str(row_tg))                       # 특수문자 제거\n",
    "        hanspelchecked = spell_checker.check(text).checked  # 맙춤법 체크\n",
    "        kospacing_sent = spacing(hanspelchecked)             # 띄어쓰기 업데이트\n",
    "\n",
    "        result = []\n",
    "        for token in okt.pos(kospacing_sent):\n",
    "# #         if token not in stop_words: # 단어 토큰화 된 결과에 대해서 불용어를 제거합니다.\n",
    "            if len(token[0]) > 1: # 단어 길이가 2이하인 경우에 대하여 추가로 단어를 제거합니다.\n",
    "                result.append(token)\n",
    "                if token not in vocab:\n",
    "                    vocab[token] = 0 \n",
    "                vocab[token] += 1\n",
    "        sentences.append(result) \n",
    "\n",
    "        cnt = cnt + 1\n",
    "        print(cnt , end='\\r', flush = True)\n",
    "    \n",
    "vocab_sorted = sorted(vocab.items(), key = lambda x:x[1], reverse = True)\n",
    "print(vocab_sorted)"
   ]
  },
  {
   "cell_type": "code",
   "execution_count": null,
   "metadata": {},
   "outputs": [],
   "source": []
  }
 ],
 "metadata": {
  "kernelspec": {
   "display_name": "Python 3",
   "language": "python",
   "name": "python3"
  },
  "language_info": {
   "codemirror_mode": {
    "name": "ipython",
    "version": 3
   },
   "file_extension": ".py",
   "mimetype": "text/x-python",
   "name": "python",
   "nbconvert_exporter": "python",
   "pygments_lexer": "ipython3",
   "version": "3.8.5"
  }
 },
 "nbformat": 4,
 "nbformat_minor": 4
}
